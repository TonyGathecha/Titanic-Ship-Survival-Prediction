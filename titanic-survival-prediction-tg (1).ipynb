{
 "cells": [
  {
   "cell_type": "code",
   "execution_count": 1,
   "id": "eb475519",
   "metadata": {
    "_cell_guid": "b1076dfc-b9ad-4769-8c92-a6c4dae69d19",
    "_uuid": "8f2839f25d086af736a60e9eeb907d3b93b6e0e5",
    "execution": {
     "iopub.execute_input": "2024-06-29T05:25:32.771103Z",
     "iopub.status.busy": "2024-06-29T05:25:32.770711Z",
     "iopub.status.idle": "2024-06-29T05:25:33.735386Z",
     "shell.execute_reply": "2024-06-29T05:25:33.734079Z"
    },
    "papermill": {
     "duration": 0.978059,
     "end_time": "2024-06-29T05:25:33.738005",
     "exception": false,
     "start_time": "2024-06-29T05:25:32.759946",
     "status": "completed"
    },
    "tags": []
   },
   "outputs": [
    {
     "name": "stdout",
     "output_type": "stream",
     "text": [
      "/kaggle/input/titanic/train.csv\n",
      "/kaggle/input/titanic/test.csv\n",
      "/kaggle/input/titanic/gender_submission.csv\n"
     ]
    }
   ],
   "source": [
    "# This Python 3 environment comes with many helpful analytics libraries installed\n",
    "# It is defined by the kaggle/python Docker image: https://github.com/kaggle/docker-python\n",
    "# For example, here's several helpful packages to load\n",
    "\n",
    "import numpy as np # linear algebra\n",
    "import pandas as pd # data processing, CSV file I/O (e.g. pd.read_csv)\n",
    "\n",
    "# Input data files are available in the read-only \"../input/\" directory\n",
    "# For example, running this (by clicking run or pressing Shift+Enter) will list all files under the input directory\n",
    "\n",
    "import os\n",
    "for dirname, _, filenames in os.walk('/kaggle/input'):\n",
    "    for filename in filenames:\n",
    "        print(os.path.join(dirname, filename))\n",
    "\n",
    "# You can write up to 20GB to the current directory (/kaggle/working/) that gets preserved as output when you create a version using \"Save & Run All\" \n",
    "# You can also write temporary files to /kaggle/temp/, but they won't be saved outside of the current session"
   ]
  },
  {
   "cell_type": "code",
   "execution_count": 2,
   "id": "25b67d99",
   "metadata": {
    "execution": {
     "iopub.execute_input": "2024-06-29T05:25:33.756561Z",
     "iopub.status.busy": "2024-06-29T05:25:33.756037Z",
     "iopub.status.idle": "2024-06-29T05:25:33.807086Z",
     "shell.execute_reply": "2024-06-29T05:25:33.805859Z"
    },
    "papermill": {
     "duration": 0.063313,
     "end_time": "2024-06-29T05:25:33.809660",
     "exception": false,
     "start_time": "2024-06-29T05:25:33.746347",
     "status": "completed"
    },
    "tags": []
   },
   "outputs": [
    {
     "data": {
      "text/html": [
       "<div>\n",
       "<style scoped>\n",
       "    .dataframe tbody tr th:only-of-type {\n",
       "        vertical-align: middle;\n",
       "    }\n",
       "\n",
       "    .dataframe tbody tr th {\n",
       "        vertical-align: top;\n",
       "    }\n",
       "\n",
       "    .dataframe thead th {\n",
       "        text-align: right;\n",
       "    }\n",
       "</style>\n",
       "<table border=\"1\" class=\"dataframe\">\n",
       "  <thead>\n",
       "    <tr style=\"text-align: right;\">\n",
       "      <th></th>\n",
       "      <th>PassengerId</th>\n",
       "      <th>Survived</th>\n",
       "      <th>Pclass</th>\n",
       "      <th>Name</th>\n",
       "      <th>Sex</th>\n",
       "      <th>Age</th>\n",
       "      <th>SibSp</th>\n",
       "      <th>Parch</th>\n",
       "      <th>Ticket</th>\n",
       "      <th>Fare</th>\n",
       "      <th>Cabin</th>\n",
       "      <th>Embarked</th>\n",
       "    </tr>\n",
       "  </thead>\n",
       "  <tbody>\n",
       "    <tr>\n",
       "      <th>0</th>\n",
       "      <td>1</td>\n",
       "      <td>0</td>\n",
       "      <td>3</td>\n",
       "      <td>Braund, Mr. Owen Harris</td>\n",
       "      <td>male</td>\n",
       "      <td>22.0</td>\n",
       "      <td>1</td>\n",
       "      <td>0</td>\n",
       "      <td>A/5 21171</td>\n",
       "      <td>7.2500</td>\n",
       "      <td>NaN</td>\n",
       "      <td>S</td>\n",
       "    </tr>\n",
       "    <tr>\n",
       "      <th>1</th>\n",
       "      <td>2</td>\n",
       "      <td>1</td>\n",
       "      <td>1</td>\n",
       "      <td>Cumings, Mrs. John Bradley (Florence Briggs Th...</td>\n",
       "      <td>female</td>\n",
       "      <td>38.0</td>\n",
       "      <td>1</td>\n",
       "      <td>0</td>\n",
       "      <td>PC 17599</td>\n",
       "      <td>71.2833</td>\n",
       "      <td>C85</td>\n",
       "      <td>C</td>\n",
       "    </tr>\n",
       "    <tr>\n",
       "      <th>2</th>\n",
       "      <td>3</td>\n",
       "      <td>1</td>\n",
       "      <td>3</td>\n",
       "      <td>Heikkinen, Miss. Laina</td>\n",
       "      <td>female</td>\n",
       "      <td>26.0</td>\n",
       "      <td>0</td>\n",
       "      <td>0</td>\n",
       "      <td>STON/O2. 3101282</td>\n",
       "      <td>7.9250</td>\n",
       "      <td>NaN</td>\n",
       "      <td>S</td>\n",
       "    </tr>\n",
       "    <tr>\n",
       "      <th>3</th>\n",
       "      <td>4</td>\n",
       "      <td>1</td>\n",
       "      <td>1</td>\n",
       "      <td>Futrelle, Mrs. Jacques Heath (Lily May Peel)</td>\n",
       "      <td>female</td>\n",
       "      <td>35.0</td>\n",
       "      <td>1</td>\n",
       "      <td>0</td>\n",
       "      <td>113803</td>\n",
       "      <td>53.1000</td>\n",
       "      <td>C123</td>\n",
       "      <td>S</td>\n",
       "    </tr>\n",
       "    <tr>\n",
       "      <th>4</th>\n",
       "      <td>5</td>\n",
       "      <td>0</td>\n",
       "      <td>3</td>\n",
       "      <td>Allen, Mr. William Henry</td>\n",
       "      <td>male</td>\n",
       "      <td>35.0</td>\n",
       "      <td>0</td>\n",
       "      <td>0</td>\n",
       "      <td>373450</td>\n",
       "      <td>8.0500</td>\n",
       "      <td>NaN</td>\n",
       "      <td>S</td>\n",
       "    </tr>\n",
       "  </tbody>\n",
       "</table>\n",
       "</div>"
      ],
      "text/plain": [
       "   PassengerId  Survived  Pclass  \\\n",
       "0            1         0       3   \n",
       "1            2         1       1   \n",
       "2            3         1       3   \n",
       "3            4         1       1   \n",
       "4            5         0       3   \n",
       "\n",
       "                                                Name     Sex   Age  SibSp  \\\n",
       "0                            Braund, Mr. Owen Harris    male  22.0      1   \n",
       "1  Cumings, Mrs. John Bradley (Florence Briggs Th...  female  38.0      1   \n",
       "2                             Heikkinen, Miss. Laina  female  26.0      0   \n",
       "3       Futrelle, Mrs. Jacques Heath (Lily May Peel)  female  35.0      1   \n",
       "4                           Allen, Mr. William Henry    male  35.0      0   \n",
       "\n",
       "   Parch            Ticket     Fare Cabin Embarked  \n",
       "0      0         A/5 21171   7.2500   NaN        S  \n",
       "1      0          PC 17599  71.2833   C85        C  \n",
       "2      0  STON/O2. 3101282   7.9250   NaN        S  \n",
       "3      0            113803  53.1000  C123        S  \n",
       "4      0            373450   8.0500   NaN        S  "
      ]
     },
     "execution_count": 2,
     "metadata": {},
     "output_type": "execute_result"
    }
   ],
   "source": [
    "train_data=pd.read_csv(\"/kaggle/input/titanic/train.csv\")\n",
    "train_data.head()"
   ]
  },
  {
   "cell_type": "code",
   "execution_count": 3,
   "id": "6db5f125",
   "metadata": {
    "execution": {
     "iopub.execute_input": "2024-06-29T05:25:33.828630Z",
     "iopub.status.busy": "2024-06-29T05:25:33.828239Z",
     "iopub.status.idle": "2024-06-29T05:25:35.108918Z",
     "shell.execute_reply": "2024-06-29T05:25:35.107612Z"
    },
    "papermill": {
     "duration": 1.294009,
     "end_time": "2024-06-29T05:25:35.112229",
     "exception": false,
     "start_time": "2024-06-29T05:25:33.818220",
     "status": "completed"
    },
    "tags": []
   },
   "outputs": [],
   "source": [
    "from sklearn.preprocessing import LabelEncoder\n",
    "le_sex=LabelEncoder()"
   ]
  },
  {
   "cell_type": "code",
   "execution_count": 4,
   "id": "8fd079bc",
   "metadata": {
    "execution": {
     "iopub.execute_input": "2024-06-29T05:25:35.131245Z",
     "iopub.status.busy": "2024-06-29T05:25:35.130846Z",
     "iopub.status.idle": "2024-06-29T05:25:35.159888Z",
     "shell.execute_reply": "2024-06-29T05:25:35.158612Z"
    },
    "papermill": {
     "duration": 0.041703,
     "end_time": "2024-06-29T05:25:35.162726",
     "exception": false,
     "start_time": "2024-06-29T05:25:35.121023",
     "status": "completed"
    },
    "tags": []
   },
   "outputs": [
    {
     "data": {
      "text/html": [
       "<div>\n",
       "<style scoped>\n",
       "    .dataframe tbody tr th:only-of-type {\n",
       "        vertical-align: middle;\n",
       "    }\n",
       "\n",
       "    .dataframe tbody tr th {\n",
       "        vertical-align: top;\n",
       "    }\n",
       "\n",
       "    .dataframe thead th {\n",
       "        text-align: right;\n",
       "    }\n",
       "</style>\n",
       "<table border=\"1\" class=\"dataframe\">\n",
       "  <thead>\n",
       "    <tr style=\"text-align: right;\">\n",
       "      <th></th>\n",
       "      <th>PassengerId</th>\n",
       "      <th>Survived</th>\n",
       "      <th>Sex</th>\n",
       "      <th>Age</th>\n",
       "      <th>SibSp</th>\n",
       "      <th>Fare</th>\n",
       "    </tr>\n",
       "  </thead>\n",
       "  <tbody>\n",
       "    <tr>\n",
       "      <th>0</th>\n",
       "      <td>1</td>\n",
       "      <td>0</td>\n",
       "      <td>1</td>\n",
       "      <td>22.0</td>\n",
       "      <td>1</td>\n",
       "      <td>7.2500</td>\n",
       "    </tr>\n",
       "    <tr>\n",
       "      <th>1</th>\n",
       "      <td>2</td>\n",
       "      <td>1</td>\n",
       "      <td>0</td>\n",
       "      <td>38.0</td>\n",
       "      <td>1</td>\n",
       "      <td>71.2833</td>\n",
       "    </tr>\n",
       "    <tr>\n",
       "      <th>2</th>\n",
       "      <td>3</td>\n",
       "      <td>1</td>\n",
       "      <td>0</td>\n",
       "      <td>26.0</td>\n",
       "      <td>0</td>\n",
       "      <td>7.9250</td>\n",
       "    </tr>\n",
       "    <tr>\n",
       "      <th>3</th>\n",
       "      <td>4</td>\n",
       "      <td>1</td>\n",
       "      <td>0</td>\n",
       "      <td>35.0</td>\n",
       "      <td>1</td>\n",
       "      <td>53.1000</td>\n",
       "    </tr>\n",
       "    <tr>\n",
       "      <th>4</th>\n",
       "      <td>5</td>\n",
       "      <td>0</td>\n",
       "      <td>1</td>\n",
       "      <td>35.0</td>\n",
       "      <td>0</td>\n",
       "      <td>8.0500</td>\n",
       "    </tr>\n",
       "    <tr>\n",
       "      <th>...</th>\n",
       "      <td>...</td>\n",
       "      <td>...</td>\n",
       "      <td>...</td>\n",
       "      <td>...</td>\n",
       "      <td>...</td>\n",
       "      <td>...</td>\n",
       "    </tr>\n",
       "    <tr>\n",
       "      <th>885</th>\n",
       "      <td>886</td>\n",
       "      <td>0</td>\n",
       "      <td>0</td>\n",
       "      <td>39.0</td>\n",
       "      <td>0</td>\n",
       "      <td>29.1250</td>\n",
       "    </tr>\n",
       "    <tr>\n",
       "      <th>886</th>\n",
       "      <td>887</td>\n",
       "      <td>0</td>\n",
       "      <td>1</td>\n",
       "      <td>27.0</td>\n",
       "      <td>0</td>\n",
       "      <td>13.0000</td>\n",
       "    </tr>\n",
       "    <tr>\n",
       "      <th>887</th>\n",
       "      <td>888</td>\n",
       "      <td>1</td>\n",
       "      <td>0</td>\n",
       "      <td>19.0</td>\n",
       "      <td>0</td>\n",
       "      <td>30.0000</td>\n",
       "    </tr>\n",
       "    <tr>\n",
       "      <th>889</th>\n",
       "      <td>890</td>\n",
       "      <td>1</td>\n",
       "      <td>1</td>\n",
       "      <td>26.0</td>\n",
       "      <td>0</td>\n",
       "      <td>30.0000</td>\n",
       "    </tr>\n",
       "    <tr>\n",
       "      <th>890</th>\n",
       "      <td>891</td>\n",
       "      <td>0</td>\n",
       "      <td>1</td>\n",
       "      <td>32.0</td>\n",
       "      <td>0</td>\n",
       "      <td>7.7500</td>\n",
       "    </tr>\n",
       "  </tbody>\n",
       "</table>\n",
       "<p>714 rows × 6 columns</p>\n",
       "</div>"
      ],
      "text/plain": [
       "     PassengerId  Survived  Sex   Age  SibSp     Fare\n",
       "0              1         0    1  22.0      1   7.2500\n",
       "1              2         1    0  38.0      1  71.2833\n",
       "2              3         1    0  26.0      0   7.9250\n",
       "3              4         1    0  35.0      1  53.1000\n",
       "4              5         0    1  35.0      0   8.0500\n",
       "..           ...       ...  ...   ...    ...      ...\n",
       "885          886         0    0  39.0      0  29.1250\n",
       "886          887         0    1  27.0      0  13.0000\n",
       "887          888         1    0  19.0      0  30.0000\n",
       "889          890         1    1  26.0      0  30.0000\n",
       "890          891         0    1  32.0      0   7.7500\n",
       "\n",
       "[714 rows x 6 columns]"
      ]
     },
     "execution_count": 4,
     "metadata": {},
     "output_type": "execute_result"
    }
   ],
   "source": [
    "new_df = train_data[['PassengerId', 'Survived','Sex', 'Age', 'SibSp','Fare']].dropna()\n",
    "\n",
    "new_df['Sex'] = le_sex.fit_transform(new_df['Sex'])\n",
    "\n",
    "new_df"
   ]
  },
  {
   "cell_type": "code",
   "execution_count": 5,
   "id": "47aa3cf6",
   "metadata": {
    "execution": {
     "iopub.execute_input": "2024-06-29T05:25:35.182805Z",
     "iopub.status.busy": "2024-06-29T05:25:35.182368Z",
     "iopub.status.idle": "2024-06-29T05:25:35.191220Z",
     "shell.execute_reply": "2024-06-29T05:25:35.190057Z"
    },
    "papermill": {
     "duration": 0.021586,
     "end_time": "2024-06-29T05:25:35.193649",
     "exception": false,
     "start_time": "2024-06-29T05:25:35.172063",
     "status": "completed"
    },
    "tags": []
   },
   "outputs": [
    {
     "data": {
      "text/plain": [
       "PassengerId    0\n",
       "Survived       0\n",
       "Sex            0\n",
       "Age            0\n",
       "SibSp          0\n",
       "Fare           0\n",
       "dtype: int64"
      ]
     },
     "execution_count": 5,
     "metadata": {},
     "output_type": "execute_result"
    }
   ],
   "source": [
    "new_df.isna().sum()"
   ]
  },
  {
   "cell_type": "code",
   "execution_count": 6,
   "id": "f235fc01",
   "metadata": {
    "execution": {
     "iopub.execute_input": "2024-06-29T05:25:35.214452Z",
     "iopub.status.busy": "2024-06-29T05:25:35.213533Z",
     "iopub.status.idle": "2024-06-29T05:25:35.231995Z",
     "shell.execute_reply": "2024-06-29T05:25:35.230873Z"
    },
    "papermill": {
     "duration": 0.031604,
     "end_time": "2024-06-29T05:25:35.234438",
     "exception": false,
     "start_time": "2024-06-29T05:25:35.202834",
     "status": "completed"
    },
    "tags": []
   },
   "outputs": [
    {
     "data": {
      "text/html": [
       "<div>\n",
       "<style scoped>\n",
       "    .dataframe tbody tr th:only-of-type {\n",
       "        vertical-align: middle;\n",
       "    }\n",
       "\n",
       "    .dataframe tbody tr th {\n",
       "        vertical-align: top;\n",
       "    }\n",
       "\n",
       "    .dataframe thead th {\n",
       "        text-align: right;\n",
       "    }\n",
       "</style>\n",
       "<table border=\"1\" class=\"dataframe\">\n",
       "  <thead>\n",
       "    <tr style=\"text-align: right;\">\n",
       "      <th></th>\n",
       "      <th>PassengerId</th>\n",
       "      <th>Survived</th>\n",
       "      <th>Sex</th>\n",
       "      <th>Age</th>\n",
       "      <th>SibSp</th>\n",
       "      <th>Fare</th>\n",
       "    </tr>\n",
       "  </thead>\n",
       "  <tbody>\n",
       "    <tr>\n",
       "      <th>PassengerId</th>\n",
       "      <td>1.000000</td>\n",
       "      <td>0.029340</td>\n",
       "      <td>0.024575</td>\n",
       "      <td>0.036847</td>\n",
       "      <td>-0.082398</td>\n",
       "      <td>0.009592</td>\n",
       "    </tr>\n",
       "    <tr>\n",
       "      <th>Survived</th>\n",
       "      <td>0.029340</td>\n",
       "      <td>1.000000</td>\n",
       "      <td>-0.538826</td>\n",
       "      <td>-0.077221</td>\n",
       "      <td>-0.017358</td>\n",
       "      <td>0.268189</td>\n",
       "    </tr>\n",
       "    <tr>\n",
       "      <th>Sex</th>\n",
       "      <td>0.024575</td>\n",
       "      <td>-0.538826</td>\n",
       "      <td>1.000000</td>\n",
       "      <td>0.093254</td>\n",
       "      <td>-0.103950</td>\n",
       "      <td>-0.184994</td>\n",
       "    </tr>\n",
       "    <tr>\n",
       "      <th>Age</th>\n",
       "      <td>0.036847</td>\n",
       "      <td>-0.077221</td>\n",
       "      <td>0.093254</td>\n",
       "      <td>1.000000</td>\n",
       "      <td>-0.308247</td>\n",
       "      <td>0.096067</td>\n",
       "    </tr>\n",
       "    <tr>\n",
       "      <th>SibSp</th>\n",
       "      <td>-0.082398</td>\n",
       "      <td>-0.017358</td>\n",
       "      <td>-0.103950</td>\n",
       "      <td>-0.308247</td>\n",
       "      <td>1.000000</td>\n",
       "      <td>0.138329</td>\n",
       "    </tr>\n",
       "    <tr>\n",
       "      <th>Fare</th>\n",
       "      <td>0.009592</td>\n",
       "      <td>0.268189</td>\n",
       "      <td>-0.184994</td>\n",
       "      <td>0.096067</td>\n",
       "      <td>0.138329</td>\n",
       "      <td>1.000000</td>\n",
       "    </tr>\n",
       "  </tbody>\n",
       "</table>\n",
       "</div>"
      ],
      "text/plain": [
       "             PassengerId  Survived       Sex       Age     SibSp      Fare\n",
       "PassengerId     1.000000  0.029340  0.024575  0.036847 -0.082398  0.009592\n",
       "Survived        0.029340  1.000000 -0.538826 -0.077221 -0.017358  0.268189\n",
       "Sex             0.024575 -0.538826  1.000000  0.093254 -0.103950 -0.184994\n",
       "Age             0.036847 -0.077221  0.093254  1.000000 -0.308247  0.096067\n",
       "SibSp          -0.082398 -0.017358 -0.103950 -0.308247  1.000000  0.138329\n",
       "Fare            0.009592  0.268189 -0.184994  0.096067  0.138329  1.000000"
      ]
     },
     "execution_count": 6,
     "metadata": {},
     "output_type": "execute_result"
    }
   ],
   "source": [
    "new_df.corr()"
   ]
  },
  {
   "cell_type": "code",
   "execution_count": 7,
   "id": "d72dcfa1",
   "metadata": {
    "execution": {
     "iopub.execute_input": "2024-06-29T05:25:35.255856Z",
     "iopub.status.busy": "2024-06-29T05:25:35.255444Z",
     "iopub.status.idle": "2024-06-29T05:25:35.279335Z",
     "shell.execute_reply": "2024-06-29T05:25:35.278014Z"
    },
    "papermill": {
     "duration": 0.038124,
     "end_time": "2024-06-29T05:25:35.281996",
     "exception": false,
     "start_time": "2024-06-29T05:25:35.243872",
     "status": "completed"
    },
    "tags": []
   },
   "outputs": [
    {
     "data": {
      "text/html": [
       "<div>\n",
       "<style scoped>\n",
       "    .dataframe tbody tr th:only-of-type {\n",
       "        vertical-align: middle;\n",
       "    }\n",
       "\n",
       "    .dataframe tbody tr th {\n",
       "        vertical-align: top;\n",
       "    }\n",
       "\n",
       "    .dataframe thead th {\n",
       "        text-align: right;\n",
       "    }\n",
       "</style>\n",
       "<table border=\"1\" class=\"dataframe\">\n",
       "  <thead>\n",
       "    <tr style=\"text-align: right;\">\n",
       "      <th></th>\n",
       "      <th>PassengerId</th>\n",
       "      <th>Pclass</th>\n",
       "      <th>Name</th>\n",
       "      <th>Sex</th>\n",
       "      <th>Age</th>\n",
       "      <th>SibSp</th>\n",
       "      <th>Parch</th>\n",
       "      <th>Ticket</th>\n",
       "      <th>Fare</th>\n",
       "      <th>Cabin</th>\n",
       "      <th>Embarked</th>\n",
       "    </tr>\n",
       "  </thead>\n",
       "  <tbody>\n",
       "    <tr>\n",
       "      <th>0</th>\n",
       "      <td>892</td>\n",
       "      <td>3</td>\n",
       "      <td>Kelly, Mr. James</td>\n",
       "      <td>male</td>\n",
       "      <td>34.5</td>\n",
       "      <td>0</td>\n",
       "      <td>0</td>\n",
       "      <td>330911</td>\n",
       "      <td>7.8292</td>\n",
       "      <td>NaN</td>\n",
       "      <td>Q</td>\n",
       "    </tr>\n",
       "    <tr>\n",
       "      <th>1</th>\n",
       "      <td>893</td>\n",
       "      <td>3</td>\n",
       "      <td>Wilkes, Mrs. James (Ellen Needs)</td>\n",
       "      <td>female</td>\n",
       "      <td>47.0</td>\n",
       "      <td>1</td>\n",
       "      <td>0</td>\n",
       "      <td>363272</td>\n",
       "      <td>7.0000</td>\n",
       "      <td>NaN</td>\n",
       "      <td>S</td>\n",
       "    </tr>\n",
       "    <tr>\n",
       "      <th>2</th>\n",
       "      <td>894</td>\n",
       "      <td>2</td>\n",
       "      <td>Myles, Mr. Thomas Francis</td>\n",
       "      <td>male</td>\n",
       "      <td>62.0</td>\n",
       "      <td>0</td>\n",
       "      <td>0</td>\n",
       "      <td>240276</td>\n",
       "      <td>9.6875</td>\n",
       "      <td>NaN</td>\n",
       "      <td>Q</td>\n",
       "    </tr>\n",
       "    <tr>\n",
       "      <th>3</th>\n",
       "      <td>895</td>\n",
       "      <td>3</td>\n",
       "      <td>Wirz, Mr. Albert</td>\n",
       "      <td>male</td>\n",
       "      <td>27.0</td>\n",
       "      <td>0</td>\n",
       "      <td>0</td>\n",
       "      <td>315154</td>\n",
       "      <td>8.6625</td>\n",
       "      <td>NaN</td>\n",
       "      <td>S</td>\n",
       "    </tr>\n",
       "    <tr>\n",
       "      <th>4</th>\n",
       "      <td>896</td>\n",
       "      <td>3</td>\n",
       "      <td>Hirvonen, Mrs. Alexander (Helga E Lindqvist)</td>\n",
       "      <td>female</td>\n",
       "      <td>22.0</td>\n",
       "      <td>1</td>\n",
       "      <td>1</td>\n",
       "      <td>3101298</td>\n",
       "      <td>12.2875</td>\n",
       "      <td>NaN</td>\n",
       "      <td>S</td>\n",
       "    </tr>\n",
       "  </tbody>\n",
       "</table>\n",
       "</div>"
      ],
      "text/plain": [
       "   PassengerId  Pclass                                          Name     Sex  \\\n",
       "0          892       3                              Kelly, Mr. James    male   \n",
       "1          893       3              Wilkes, Mrs. James (Ellen Needs)  female   \n",
       "2          894       2                     Myles, Mr. Thomas Francis    male   \n",
       "3          895       3                              Wirz, Mr. Albert    male   \n",
       "4          896       3  Hirvonen, Mrs. Alexander (Helga E Lindqvist)  female   \n",
       "\n",
       "    Age  SibSp  Parch   Ticket     Fare Cabin Embarked  \n",
       "0  34.5      0      0   330911   7.8292   NaN        Q  \n",
       "1  47.0      1      0   363272   7.0000   NaN        S  \n",
       "2  62.0      0      0   240276   9.6875   NaN        Q  \n",
       "3  27.0      0      0   315154   8.6625   NaN        S  \n",
       "4  22.0      1      1  3101298  12.2875   NaN        S  "
      ]
     },
     "execution_count": 7,
     "metadata": {},
     "output_type": "execute_result"
    }
   ],
   "source": [
    "test_data=pd.read_csv('/kaggle/input/titanic/test.csv')\n",
    "test_data.head()"
   ]
  },
  {
   "cell_type": "code",
   "execution_count": 8,
   "id": "b5876fa9",
   "metadata": {
    "execution": {
     "iopub.execute_input": "2024-06-29T05:25:35.304368Z",
     "iopub.status.busy": "2024-06-29T05:25:35.303972Z",
     "iopub.status.idle": "2024-06-29T05:25:35.312833Z",
     "shell.execute_reply": "2024-06-29T05:25:35.311703Z"
    },
    "papermill": {
     "duration": 0.023296,
     "end_time": "2024-06-29T05:25:35.315365",
     "exception": false,
     "start_time": "2024-06-29T05:25:35.292069",
     "status": "completed"
    },
    "tags": []
   },
   "outputs": [],
   "source": [
    "test_df = test_data[['PassengerId', 'Sex', 'Age', 'SibSp','Fare']]\n",
    "\n",
    "test_df.loc[:,'Age']=test_df['Age'].fillna(0)\n",
    "test_df.loc[:,'Fare']=test_df['Fare'].fillna(0)\n"
   ]
  },
  {
   "cell_type": "code",
   "execution_count": 9,
   "id": "5e89b6d0",
   "metadata": {
    "execution": {
     "iopub.execute_input": "2024-06-29T05:25:35.336764Z",
     "iopub.status.busy": "2024-06-29T05:25:35.336318Z",
     "iopub.status.idle": "2024-06-29T05:25:35.345419Z",
     "shell.execute_reply": "2024-06-29T05:25:35.344336Z"
    },
    "papermill": {
     "duration": 0.022794,
     "end_time": "2024-06-29T05:25:35.347996",
     "exception": false,
     "start_time": "2024-06-29T05:25:35.325202",
     "status": "completed"
    },
    "tags": []
   },
   "outputs": [
    {
     "data": {
      "text/plain": [
       "PassengerId    0\n",
       "Sex            0\n",
       "Age            0\n",
       "SibSp          0\n",
       "Fare           0\n",
       "dtype: int64"
      ]
     },
     "execution_count": 9,
     "metadata": {},
     "output_type": "execute_result"
    }
   ],
   "source": [
    "test_df.isna().sum()"
   ]
  },
  {
   "cell_type": "code",
   "execution_count": 10,
   "id": "2a24e198",
   "metadata": {
    "execution": {
     "iopub.execute_input": "2024-06-29T05:25:35.369855Z",
     "iopub.status.busy": "2024-06-29T05:25:35.369453Z",
     "iopub.status.idle": "2024-06-29T05:25:35.387451Z",
     "shell.execute_reply": "2024-06-29T05:25:35.385912Z"
    },
    "papermill": {
     "duration": 0.031636,
     "end_time": "2024-06-29T05:25:35.389898",
     "exception": false,
     "start_time": "2024-06-29T05:25:35.358262",
     "status": "completed"
    },
    "tags": []
   },
   "outputs": [
    {
     "data": {
      "text/html": [
       "<div>\n",
       "<style scoped>\n",
       "    .dataframe tbody tr th:only-of-type {\n",
       "        vertical-align: middle;\n",
       "    }\n",
       "\n",
       "    .dataframe tbody tr th {\n",
       "        vertical-align: top;\n",
       "    }\n",
       "\n",
       "    .dataframe thead th {\n",
       "        text-align: right;\n",
       "    }\n",
       "</style>\n",
       "<table border=\"1\" class=\"dataframe\">\n",
       "  <thead>\n",
       "    <tr style=\"text-align: right;\">\n",
       "      <th></th>\n",
       "      <th>PassengerId</th>\n",
       "      <th>Sex</th>\n",
       "      <th>Age</th>\n",
       "      <th>SibSp</th>\n",
       "      <th>Fare</th>\n",
       "    </tr>\n",
       "  </thead>\n",
       "  <tbody>\n",
       "    <tr>\n",
       "      <th>0</th>\n",
       "      <td>892</td>\n",
       "      <td>1</td>\n",
       "      <td>34.5</td>\n",
       "      <td>0</td>\n",
       "      <td>7.8292</td>\n",
       "    </tr>\n",
       "    <tr>\n",
       "      <th>1</th>\n",
       "      <td>893</td>\n",
       "      <td>0</td>\n",
       "      <td>47.0</td>\n",
       "      <td>1</td>\n",
       "      <td>7.0000</td>\n",
       "    </tr>\n",
       "    <tr>\n",
       "      <th>2</th>\n",
       "      <td>894</td>\n",
       "      <td>1</td>\n",
       "      <td>62.0</td>\n",
       "      <td>0</td>\n",
       "      <td>9.6875</td>\n",
       "    </tr>\n",
       "    <tr>\n",
       "      <th>3</th>\n",
       "      <td>895</td>\n",
       "      <td>1</td>\n",
       "      <td>27.0</td>\n",
       "      <td>0</td>\n",
       "      <td>8.6625</td>\n",
       "    </tr>\n",
       "    <tr>\n",
       "      <th>4</th>\n",
       "      <td>896</td>\n",
       "      <td>0</td>\n",
       "      <td>22.0</td>\n",
       "      <td>1</td>\n",
       "      <td>12.2875</td>\n",
       "    </tr>\n",
       "    <tr>\n",
       "      <th>...</th>\n",
       "      <td>...</td>\n",
       "      <td>...</td>\n",
       "      <td>...</td>\n",
       "      <td>...</td>\n",
       "      <td>...</td>\n",
       "    </tr>\n",
       "    <tr>\n",
       "      <th>413</th>\n",
       "      <td>1305</td>\n",
       "      <td>1</td>\n",
       "      <td>0.0</td>\n",
       "      <td>0</td>\n",
       "      <td>8.0500</td>\n",
       "    </tr>\n",
       "    <tr>\n",
       "      <th>414</th>\n",
       "      <td>1306</td>\n",
       "      <td>0</td>\n",
       "      <td>39.0</td>\n",
       "      <td>0</td>\n",
       "      <td>108.9000</td>\n",
       "    </tr>\n",
       "    <tr>\n",
       "      <th>415</th>\n",
       "      <td>1307</td>\n",
       "      <td>1</td>\n",
       "      <td>38.5</td>\n",
       "      <td>0</td>\n",
       "      <td>7.2500</td>\n",
       "    </tr>\n",
       "    <tr>\n",
       "      <th>416</th>\n",
       "      <td>1308</td>\n",
       "      <td>1</td>\n",
       "      <td>0.0</td>\n",
       "      <td>0</td>\n",
       "      <td>8.0500</td>\n",
       "    </tr>\n",
       "    <tr>\n",
       "      <th>417</th>\n",
       "      <td>1309</td>\n",
       "      <td>1</td>\n",
       "      <td>0.0</td>\n",
       "      <td>1</td>\n",
       "      <td>22.3583</td>\n",
       "    </tr>\n",
       "  </tbody>\n",
       "</table>\n",
       "<p>418 rows × 5 columns</p>\n",
       "</div>"
      ],
      "text/plain": [
       "     PassengerId Sex   Age  SibSp      Fare\n",
       "0            892   1  34.5      0    7.8292\n",
       "1            893   0  47.0      1    7.0000\n",
       "2            894   1  62.0      0    9.6875\n",
       "3            895   1  27.0      0    8.6625\n",
       "4            896   0  22.0      1   12.2875\n",
       "..           ...  ..   ...    ...       ...\n",
       "413         1305   1   0.0      0    8.0500\n",
       "414         1306   0  39.0      0  108.9000\n",
       "415         1307   1  38.5      0    7.2500\n",
       "416         1308   1   0.0      0    8.0500\n",
       "417         1309   1   0.0      1   22.3583\n",
       "\n",
       "[418 rows x 5 columns]"
      ]
     },
     "execution_count": 10,
     "metadata": {},
     "output_type": "execute_result"
    }
   ],
   "source": [
    "le_cabin=LabelEncoder()\n",
    "le_sex=LabelEncoder()\n",
    "test_df.loc[:,'Sex'] = le_sex.fit_transform(test_df['Sex'])\n",
    "\n",
    "test_df"
   ]
  },
  {
   "cell_type": "code",
   "execution_count": 11,
   "id": "20f45f39",
   "metadata": {
    "execution": {
     "iopub.execute_input": "2024-06-29T05:25:35.412725Z",
     "iopub.status.busy": "2024-06-29T05:25:35.412268Z",
     "iopub.status.idle": "2024-06-29T05:25:35.523854Z",
     "shell.execute_reply": "2024-06-29T05:25:35.522763Z"
    },
    "papermill": {
     "duration": 0.126536,
     "end_time": "2024-06-29T05:25:35.526621",
     "exception": false,
     "start_time": "2024-06-29T05:25:35.400085",
     "status": "completed"
    },
    "tags": []
   },
   "outputs": [],
   "source": [
    "from sklearn.model_selection import train_test_split"
   ]
  },
  {
   "cell_type": "code",
   "execution_count": 12,
   "id": "de9d8122",
   "metadata": {
    "execution": {
     "iopub.execute_input": "2024-06-29T05:25:35.549276Z",
     "iopub.status.busy": "2024-06-29T05:25:35.548868Z",
     "iopub.status.idle": "2024-06-29T05:25:35.560693Z",
     "shell.execute_reply": "2024-06-29T05:25:35.559532Z"
    },
    "papermill": {
     "duration": 0.026085,
     "end_time": "2024-06-29T05:25:35.563396",
     "exception": false,
     "start_time": "2024-06-29T05:25:35.537311",
     "status": "completed"
    },
    "tags": []
   },
   "outputs": [],
   "source": [
    "x = new_df[['Sex', 'Age', 'SibSp','Fare']]\n",
    "y = new_df['Survived']\n",
    "x_train, x_test, y_train, y_test = train_test_split(x, y, test_size=0.1, random_state=42)"
   ]
  },
  {
   "cell_type": "code",
   "execution_count": 13,
   "id": "68584ab6",
   "metadata": {
    "execution": {
     "iopub.execute_input": "2024-06-29T05:25:35.586117Z",
     "iopub.status.busy": "2024-06-29T05:25:35.585706Z",
     "iopub.status.idle": "2024-06-29T05:25:35.688244Z",
     "shell.execute_reply": "2024-06-29T05:25:35.687159Z"
    },
    "papermill": {
     "duration": 0.117659,
     "end_time": "2024-06-29T05:25:35.691431",
     "exception": false,
     "start_time": "2024-06-29T05:25:35.573772",
     "status": "completed"
    },
    "tags": []
   },
   "outputs": [],
   "source": [
    "from sklearn.model_selection import cross_val_score,KFold\n",
    "from sklearn.linear_model import LogisticRegression"
   ]
  },
  {
   "cell_type": "code",
   "execution_count": 14,
   "id": "3e401723",
   "metadata": {
    "execution": {
     "iopub.execute_input": "2024-06-29T05:25:35.714873Z",
     "iopub.status.busy": "2024-06-29T05:25:35.714451Z",
     "iopub.status.idle": "2024-06-29T05:25:35.917961Z",
     "shell.execute_reply": "2024-06-29T05:25:35.916755Z"
    },
    "papermill": {
     "duration": 0.218082,
     "end_time": "2024-06-29T05:25:35.920954",
     "exception": false,
     "start_time": "2024-06-29T05:25:35.702872",
     "status": "completed"
    },
    "tags": []
   },
   "outputs": [
    {
     "data": {
      "text/plain": [
       "0.6666666666666666"
      ]
     },
     "execution_count": 14,
     "metadata": {},
     "output_type": "execute_result"
    }
   ],
   "source": [
    "from sklearn import tree\n",
    "model1_decisionTree=tree.DecisionTreeClassifier()\n",
    "model1_decisionTree.fit(x_train, y_train)\n",
    "model1_decisionTree.score(x_test, y_test)"
   ]
  },
  {
   "cell_type": "code",
   "execution_count": 15,
   "id": "eb23c423",
   "metadata": {
    "execution": {
     "iopub.execute_input": "2024-06-29T05:25:35.946856Z",
     "iopub.status.busy": "2024-06-29T05:25:35.946353Z",
     "iopub.status.idle": "2024-06-29T05:25:35.993837Z",
     "shell.execute_reply": "2024-06-29T05:25:35.992130Z"
    },
    "papermill": {
     "duration": 0.062969,
     "end_time": "2024-06-29T05:25:35.997463",
     "exception": false,
     "start_time": "2024-06-29T05:25:35.934494",
     "status": "completed"
    },
    "tags": []
   },
   "outputs": [
    {
     "data": {
      "text/plain": [
       "0.7211482558139535"
      ]
     },
     "execution_count": 15,
     "metadata": {},
     "output_type": "execute_result"
    }
   ],
   "source": [
    "kfold=KFold(n_splits=5,shuffle=True, random_state=42)\n",
    "score=cross_val_score(model1_decisionTree,x_train, y_train, cv=kfold)\n",
    "score.mean()"
   ]
  },
  {
   "cell_type": "code",
   "execution_count": 16,
   "id": "354b7d76",
   "metadata": {
    "execution": {
     "iopub.execute_input": "2024-06-29T05:25:36.020830Z",
     "iopub.status.busy": "2024-06-29T05:25:36.020383Z",
     "iopub.status.idle": "2024-06-29T05:25:36.025363Z",
     "shell.execute_reply": "2024-06-29T05:25:36.024198Z"
    },
    "papermill": {
     "duration": 0.01989,
     "end_time": "2024-06-29T05:25:36.028275",
     "exception": false,
     "start_time": "2024-06-29T05:25:36.008385",
     "status": "completed"
    },
    "tags": []
   },
   "outputs": [],
   "source": [
    "from sklearn.svm import SVC"
   ]
  },
  {
   "cell_type": "code",
   "execution_count": 17,
   "id": "20f46678",
   "metadata": {
    "execution": {
     "iopub.execute_input": "2024-06-29T05:25:36.058848Z",
     "iopub.status.busy": "2024-06-29T05:25:36.058002Z",
     "iopub.status.idle": "2024-06-29T05:25:36.091342Z",
     "shell.execute_reply": "2024-06-29T05:25:36.090010Z"
    },
    "papermill": {
     "duration": 0.051495,
     "end_time": "2024-06-29T05:25:36.094869",
     "exception": false,
     "start_time": "2024-06-29T05:25:36.043374",
     "status": "completed"
    },
    "tags": []
   },
   "outputs": [
    {
     "data": {
      "text/plain": [
       "0.6805555555555556"
      ]
     },
     "execution_count": 17,
     "metadata": {},
     "output_type": "execute_result"
    }
   ],
   "source": [
    "model2_svm=SVC()\n",
    "model2_svm.fit(x_train, y_train)\n",
    "model2_svm.score(x_test, y_test)"
   ]
  },
  {
   "cell_type": "code",
   "execution_count": 18,
   "id": "cf6aeaeb",
   "metadata": {
    "execution": {
     "iopub.execute_input": "2024-06-29T05:25:36.122408Z",
     "iopub.status.busy": "2024-06-29T05:25:36.121515Z",
     "iopub.status.idle": "2024-06-29T05:25:36.218527Z",
     "shell.execute_reply": "2024-06-29T05:25:36.217290Z"
    },
    "papermill": {
     "duration": 0.11227,
     "end_time": "2024-06-29T05:25:36.221470",
     "exception": false,
     "start_time": "2024-06-29T05:25:36.109200",
     "status": "completed"
    },
    "tags": []
   },
   "outputs": [
    {
     "data": {
      "text/plain": [
       "0.6652010658914729"
      ]
     },
     "execution_count": 18,
     "metadata": {},
     "output_type": "execute_result"
    }
   ],
   "source": [
    "kfold=KFold(n_splits=5,shuffle=True,random_state=42)\n",
    "score=cross_val_score(model2_svm,x_train, y_train, cv=kfold)\n",
    "score.mean()"
   ]
  },
  {
   "cell_type": "code",
   "execution_count": 19,
   "id": "af5dae07",
   "metadata": {
    "execution": {
     "iopub.execute_input": "2024-06-29T05:25:36.246580Z",
     "iopub.status.busy": "2024-06-29T05:25:36.245532Z",
     "iopub.status.idle": "2024-06-29T05:25:36.260226Z",
     "shell.execute_reply": "2024-06-29T05:25:36.258939Z"
    },
    "papermill": {
     "duration": 0.030786,
     "end_time": "2024-06-29T05:25:36.263369",
     "exception": false,
     "start_time": "2024-06-29T05:25:36.232583",
     "status": "completed"
    },
    "tags": []
   },
   "outputs": [],
   "source": [
    "from sklearn.linear_model import LogisticRegression"
   ]
  },
  {
   "cell_type": "code",
   "execution_count": 20,
   "id": "0ed0bece",
   "metadata": {
    "execution": {
     "iopub.execute_input": "2024-06-29T05:25:36.293307Z",
     "iopub.status.busy": "2024-06-29T05:25:36.292910Z",
     "iopub.status.idle": "2024-06-29T05:25:36.327878Z",
     "shell.execute_reply": "2024-06-29T05:25:36.326694Z"
    },
    "papermill": {
     "duration": 0.054773,
     "end_time": "2024-06-29T05:25:36.330714",
     "exception": false,
     "start_time": "2024-06-29T05:25:36.275941",
     "status": "completed"
    },
    "tags": []
   },
   "outputs": [
    {
     "data": {
      "text/plain": [
       "0.6944444444444444"
      ]
     },
     "execution_count": 20,
     "metadata": {},
     "output_type": "execute_result"
    }
   ],
   "source": [
    "model3_LogisticReg = LogisticRegression(max_iter=1000)\n",
    "model3_LogisticReg.fit(x_train, y_train)\n",
    "score = model3_LogisticReg.score(x_test, y_test)\n",
    "score"
   ]
  },
  {
   "cell_type": "code",
   "execution_count": 21,
   "id": "f3f7fe4a",
   "metadata": {
    "execution": {
     "iopub.execute_input": "2024-06-29T05:25:36.354920Z",
     "iopub.status.busy": "2024-06-29T05:25:36.354404Z",
     "iopub.status.idle": "2024-06-29T05:25:36.445160Z",
     "shell.execute_reply": "2024-06-29T05:25:36.443858Z"
    },
    "papermill": {
     "duration": 0.106156,
     "end_time": "2024-06-29T05:25:36.447989",
     "exception": false,
     "start_time": "2024-06-29T05:25:36.341833",
     "status": "completed"
    },
    "tags": []
   },
   "outputs": [
    {
     "data": {
      "text/plain": [
       "0.7881904069767443"
      ]
     },
     "execution_count": 21,
     "metadata": {},
     "output_type": "execute_result"
    }
   ],
   "source": [
    "kfold=KFold(n_splits=5, shuffle=True, random_state=42)\n",
    "scores_logisticReg=cross_val_score(model3_LogisticReg,x_train, y_train, cv=kfold)\n",
    "scores_logisticReg.mean()"
   ]
  },
  {
   "cell_type": "code",
   "execution_count": 22,
   "id": "aa80a05b",
   "metadata": {
    "execution": {
     "iopub.execute_input": "2024-06-29T05:25:36.472707Z",
     "iopub.status.busy": "2024-06-29T05:25:36.472127Z",
     "iopub.status.idle": "2024-06-29T05:25:36.498891Z",
     "shell.execute_reply": "2024-06-29T05:25:36.497760Z"
    },
    "papermill": {
     "duration": 0.042391,
     "end_time": "2024-06-29T05:25:36.501938",
     "exception": false,
     "start_time": "2024-06-29T05:25:36.459547",
     "status": "completed"
    },
    "tags": []
   },
   "outputs": [],
   "source": [
    "pred1 = model1_decisionTree.predict(test_df[[ 'Sex', 'Age', 'SibSp','Fare']])\n",
    "pred2 = model2_svm.predict(test_df[[ 'Sex', 'Age', 'SibSp','Fare']])\n",
    "pred3 = model3_LogisticReg.predict(test_df[[ 'Sex', 'Age', 'SibSp','Fare']])\n",
    "\n",
    "predictions = np.round((pred1 + pred2 + pred3) / 3).astype(int)"
   ]
  },
  {
   "cell_type": "code",
   "execution_count": 23,
   "id": "11e9632c",
   "metadata": {
    "execution": {
     "iopub.execute_input": "2024-06-29T05:25:36.528364Z",
     "iopub.status.busy": "2024-06-29T05:25:36.527886Z",
     "iopub.status.idle": "2024-06-29T05:25:36.540138Z",
     "shell.execute_reply": "2024-06-29T05:25:36.538755Z"
    },
    "papermill": {
     "duration": 0.028745,
     "end_time": "2024-06-29T05:25:36.543154",
     "exception": false,
     "start_time": "2024-06-29T05:25:36.514409",
     "status": "completed"
    },
    "tags": []
   },
   "outputs": [
    {
     "name": "stdout",
     "output_type": "stream",
     "text": [
      "Your submission was successfully saved!\n"
     ]
    }
   ],
   "source": [
    "submission = pd.DataFrame({'PassengerId': test_data.PassengerId, 'Survived': predictions})\n",
    "submission.to_csv('submission.csv', index=False)\n",
    "print(\"Your submission was successfully saved!\")"
   ]
  },
  {
   "cell_type": "code",
   "execution_count": null,
   "id": "8a0d85c0",
   "metadata": {
    "papermill": {
     "duration": 0.010822,
     "end_time": "2024-06-29T05:25:36.568931",
     "exception": false,
     "start_time": "2024-06-29T05:25:36.558109",
     "status": "completed"
    },
    "tags": []
   },
   "outputs": [],
   "source": []
  }
 ],
 "metadata": {
  "kaggle": {
   "accelerator": "none",
   "dataSources": [
    {
     "databundleVersionId": 26502,
     "sourceId": 3136,
     "sourceType": "competition"
    }
   ],
   "dockerImageVersionId": 30732,
   "isGpuEnabled": false,
   "isInternetEnabled": true,
   "language": "python",
   "sourceType": "notebook"
  },
  "kernelspec": {
   "display_name": "Python 3",
   "language": "python",
   "name": "python3"
  },
  "language_info": {
   "codemirror_mode": {
    "name": "ipython",
    "version": 3
   },
   "file_extension": ".py",
   "mimetype": "text/x-python",
   "name": "python",
   "nbconvert_exporter": "python",
   "pygments_lexer": "ipython3",
   "version": "3.10.13"
  },
  "papermill": {
   "default_parameters": {},
   "duration": 7.519374,
   "end_time": "2024-06-29T05:25:37.201887",
   "environment_variables": {},
   "exception": null,
   "input_path": "__notebook__.ipynb",
   "output_path": "__notebook__.ipynb",
   "parameters": {},
   "start_time": "2024-06-29T05:25:29.682513",
   "version": "2.5.0"
  }
 },
 "nbformat": 4,
 "nbformat_minor": 5
}
